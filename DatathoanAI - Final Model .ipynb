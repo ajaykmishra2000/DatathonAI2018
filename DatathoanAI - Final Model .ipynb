{
 "cells": [
  {
   "cell_type": "markdown",
   "metadata": {},
   "source": [
    "### Problem:\n",
    "    A laboratory uses five highly sophisticated sensors to continuously capture atmospheric data. The data is taken at \n",
    "    random interval over a long period of time automatically. There is an event recorder which records an atmospheric event \n",
    "    (basically a parameter) at random interval. There is a mathematical relationship between the data captured by the \n",
    "    sensors & the event recorded by the recorder\n",
    "    \n",
    "    You are provided a training set of sensor data & its corresponding event value. You need to use this training dataset to \n",
    "    predict the atmospheric event’s value using another set of test sensor data. You are basically going to use training dataset\n",
    "    to learn the relationship between sensor data & recorded atmospheric event. Then you are going to use that learning to \n",
    "    predict future atmospheric event using a set of test data from the same sensors\n",
    "\n"
   ]
  },
  {
   "cell_type": "code",
   "execution_count": 1,
   "metadata": {},
   "outputs": [],
   "source": [
    "import pandas as pd\n",
    "import numpy as np\n",
    "import matplotlib.pyplot as plt"
   ]
  },
  {
   "cell_type": "code",
   "execution_count": 2,
   "metadata": {},
   "outputs": [],
   "source": [
    "mode = 'Training'\n",
    "#mode = 'Test'"
   ]
  },
  {
   "cell_type": "code",
   "execution_count": 3,
   "metadata": {},
   "outputs": [],
   "source": [
    "if (mode == 'Training'):\n",
    "    # Training Data\n",
    "    SensorFilename = 'DatathonAI2018\\data\\DatathoanAISensordataTrng.csv'\n",
    "    EventFilename = 'DatathonAI2018\\data\\DatathoanAIEventdataTrng.csv'\n",
    "else:\n",
    "    # Test Data\n",
    "    SensorFilename = 'DatathonAI2018\\data\\DatathoanAISensordataTest.csv'\n",
    "    EventFilename = 'DatathonAI2018\\data\\DatathoanAIEventdataTest.csv'\n",
    "\n"
   ]
  },
  {
   "cell_type": "code",
   "execution_count": 4,
   "metadata": {},
   "outputs": [
    {
     "data": {
      "text/html": [
       "<div>\n",
       "<style scoped>\n",
       "    .dataframe tbody tr th:only-of-type {\n",
       "        vertical-align: middle;\n",
       "    }\n",
       "\n",
       "    .dataframe tbody tr th {\n",
       "        vertical-align: top;\n",
       "    }\n",
       "\n",
       "    .dataframe thead th {\n",
       "        text-align: right;\n",
       "    }\n",
       "</style>\n",
       "<table border=\"1\" class=\"dataframe\">\n",
       "  <thead>\n",
       "    <tr style=\"text-align: right;\">\n",
       "      <th></th>\n",
       "      <th>Time</th>\n",
       "      <th>S1</th>\n",
       "      <th>S2</th>\n",
       "      <th>S3</th>\n",
       "      <th>S4</th>\n",
       "      <th>S5</th>\n",
       "      <th>Unnamed: 6</th>\n",
       "      <th>Unnamed: 7</th>\n",
       "    </tr>\n",
       "  </thead>\n",
       "  <tbody>\n",
       "    <tr>\n",
       "      <th>0</th>\n",
       "      <td>0:09:54.303</td>\n",
       "      <td>2.511536</td>\n",
       "      <td>6.195190</td>\n",
       "      <td>6.600372</td>\n",
       "      <td>6.878428</td>\n",
       "      <td>3.988469</td>\n",
       "      <td>NaN</td>\n",
       "      <td>NaN</td>\n",
       "    </tr>\n",
       "    <tr>\n",
       "      <th>1</th>\n",
       "      <td>0:09:54.368</td>\n",
       "      <td>1.958466</td>\n",
       "      <td>6.599808</td>\n",
       "      <td>6.539322</td>\n",
       "      <td>6.878428</td>\n",
       "      <td>3.988469</td>\n",
       "      <td>NaN</td>\n",
       "      <td>NaN</td>\n",
       "    </tr>\n",
       "    <tr>\n",
       "      <th>2</th>\n",
       "      <td>0:09:54.375</td>\n",
       "      <td>1.355133</td>\n",
       "      <td>7.016403</td>\n",
       "      <td>6.212509</td>\n",
       "      <td>6.878428</td>\n",
       "      <td>3.988469</td>\n",
       "      <td>NaN</td>\n",
       "      <td>NaN</td>\n",
       "    </tr>\n",
       "    <tr>\n",
       "      <th>3</th>\n",
       "      <td>0:09:54.379</td>\n",
       "      <td>1.328796</td>\n",
       "      <td>7.343216</td>\n",
       "      <td>6.048508</td>\n",
       "      <td>6.878428</td>\n",
       "      <td>3.988469</td>\n",
       "      <td>NaN</td>\n",
       "      <td>NaN</td>\n",
       "    </tr>\n",
       "    <tr>\n",
       "      <th>4</th>\n",
       "      <td>0:09:54.388</td>\n",
       "      <td>1.221054</td>\n",
       "      <td>8.217102</td>\n",
       "      <td>6.684174</td>\n",
       "      <td>6.878428</td>\n",
       "      <td>3.988469</td>\n",
       "      <td>NaN</td>\n",
       "      <td>NaN</td>\n",
       "    </tr>\n",
       "  </tbody>\n",
       "</table>\n",
       "</div>"
      ],
      "text/plain": [
       "          Time        S1        S2        S3        S4        S5  Unnamed: 6  \\\n",
       "0  0:09:54.303  2.511536  6.195190  6.600372  6.878428  3.988469         NaN   \n",
       "1  0:09:54.368  1.958466  6.599808  6.539322  6.878428  3.988469         NaN   \n",
       "2  0:09:54.375  1.355133  7.016403  6.212509  6.878428  3.988469         NaN   \n",
       "3  0:09:54.379  1.328796  7.343216  6.048508  6.878428  3.988469         NaN   \n",
       "4  0:09:54.388  1.221054  8.217102  6.684174  6.878428  3.988469         NaN   \n",
       "\n",
       "   Unnamed: 7  \n",
       "0         NaN  \n",
       "1         NaN  \n",
       "2         NaN  \n",
       "3         NaN  \n",
       "4         NaN  "
      ]
     },
     "execution_count": 4,
     "metadata": {},
     "output_type": "execute_result"
    }
   ],
   "source": [
    "DS_Sensor = pd.read_csv(SensorFilename)\n",
    "DS_Sensor.head()"
   ]
  },
  {
   "cell_type": "code",
   "execution_count": 5,
   "metadata": {},
   "outputs": [],
   "source": [
    "if (mode == 'Training'):\n",
    "    # Training Data\n",
    "    DS_Sensor = pd.read_csv(SensorFilename).drop(['Unnamed: 6','Unnamed: 7'],1)\n",
    "else:\n",
    "    DS_Sensor = pd.read_csv(SensorFilename).drop(['Unnamed: 6'],1)"
   ]
  },
  {
   "cell_type": "code",
   "execution_count": 6,
   "metadata": {},
   "outputs": [
    {
     "data": {
      "text/html": [
       "<div>\n",
       "<style scoped>\n",
       "    .dataframe tbody tr th:only-of-type {\n",
       "        vertical-align: middle;\n",
       "    }\n",
       "\n",
       "    .dataframe tbody tr th {\n",
       "        vertical-align: top;\n",
       "    }\n",
       "\n",
       "    .dataframe thead th {\n",
       "        text-align: right;\n",
       "    }\n",
       "</style>\n",
       "<table border=\"1\" class=\"dataframe\">\n",
       "  <thead>\n",
       "    <tr style=\"text-align: right;\">\n",
       "      <th></th>\n",
       "      <th>Time</th>\n",
       "      <th>S1</th>\n",
       "      <th>S2</th>\n",
       "      <th>S3</th>\n",
       "      <th>S4</th>\n",
       "      <th>S5</th>\n",
       "    </tr>\n",
       "  </thead>\n",
       "  <tbody>\n",
       "    <tr>\n",
       "      <th>0</th>\n",
       "      <td>0:09:54.303</td>\n",
       "      <td>2.511536</td>\n",
       "      <td>6.195190</td>\n",
       "      <td>6.600372</td>\n",
       "      <td>6.878428</td>\n",
       "      <td>3.988469</td>\n",
       "    </tr>\n",
       "    <tr>\n",
       "      <th>1</th>\n",
       "      <td>0:09:54.368</td>\n",
       "      <td>1.958466</td>\n",
       "      <td>6.599808</td>\n",
       "      <td>6.539322</td>\n",
       "      <td>6.878428</td>\n",
       "      <td>3.988469</td>\n",
       "    </tr>\n",
       "    <tr>\n",
       "      <th>2</th>\n",
       "      <td>0:09:54.375</td>\n",
       "      <td>1.355133</td>\n",
       "      <td>7.016403</td>\n",
       "      <td>6.212509</td>\n",
       "      <td>6.878428</td>\n",
       "      <td>3.988469</td>\n",
       "    </tr>\n",
       "    <tr>\n",
       "      <th>3</th>\n",
       "      <td>0:09:54.379</td>\n",
       "      <td>1.328796</td>\n",
       "      <td>7.343216</td>\n",
       "      <td>6.048508</td>\n",
       "      <td>6.878428</td>\n",
       "      <td>3.988469</td>\n",
       "    </tr>\n",
       "    <tr>\n",
       "      <th>4</th>\n",
       "      <td>0:09:54.388</td>\n",
       "      <td>1.221054</td>\n",
       "      <td>8.217102</td>\n",
       "      <td>6.684174</td>\n",
       "      <td>6.878428</td>\n",
       "      <td>3.988469</td>\n",
       "    </tr>\n",
       "  </tbody>\n",
       "</table>\n",
       "</div>"
      ],
      "text/plain": [
       "          Time        S1        S2        S3        S4        S5\n",
       "0  0:09:54.303  2.511536  6.195190  6.600372  6.878428  3.988469\n",
       "1  0:09:54.368  1.958466  6.599808  6.539322  6.878428  3.988469\n",
       "2  0:09:54.375  1.355133  7.016403  6.212509  6.878428  3.988469\n",
       "3  0:09:54.379  1.328796  7.343216  6.048508  6.878428  3.988469\n",
       "4  0:09:54.388  1.221054  8.217102  6.684174  6.878428  3.988469"
      ]
     },
     "execution_count": 6,
     "metadata": {},
     "output_type": "execute_result"
    }
   ],
   "source": [
    "##DS_Sensor = pd.read_csv(SensorFilename).drop(['Unnamed: 6','Unnamed: 7'],1)\n",
    "#DS_Sensor = pd.read_csv(SensorFilename).drop(['Unnamed: 6'],1)\n",
    "DS_Sensor.head()"
   ]
  },
  {
   "cell_type": "code",
   "execution_count": 7,
   "metadata": {},
   "outputs": [
    {
     "name": "stdout",
     "output_type": "stream",
     "text": [
      "(64629, 6)\n",
      "(62606, 6)\n"
     ]
    }
   ],
   "source": [
    "print(DS_Sensor.shape)\n",
    "DS_Sensor = DS_Sensor.dropna()\n",
    "print(DS_Sensor.shape)"
   ]
  },
  {
   "cell_type": "code",
   "execution_count": 8,
   "metadata": {},
   "outputs": [],
   "source": [
    "#DS_Sensor['Event_val']=-999"
   ]
  },
  {
   "cell_type": "code",
   "execution_count": 9,
   "metadata": {},
   "outputs": [
    {
     "data": {
      "text/html": [
       "<div>\n",
       "<style scoped>\n",
       "    .dataframe tbody tr th:only-of-type {\n",
       "        vertical-align: middle;\n",
       "    }\n",
       "\n",
       "    .dataframe tbody tr th {\n",
       "        vertical-align: top;\n",
       "    }\n",
       "\n",
       "    .dataframe thead th {\n",
       "        text-align: right;\n",
       "    }\n",
       "</style>\n",
       "<table border=\"1\" class=\"dataframe\">\n",
       "  <thead>\n",
       "    <tr style=\"text-align: right;\">\n",
       "      <th></th>\n",
       "      <th>Time</th>\n",
       "      <th>Event_val</th>\n",
       "    </tr>\n",
       "  </thead>\n",
       "  <tbody>\n",
       "    <tr>\n",
       "      <th>0</th>\n",
       "      <td>0:09:54.303</td>\n",
       "      <td>0.000000</td>\n",
       "    </tr>\n",
       "    <tr>\n",
       "      <th>1</th>\n",
       "      <td>0:09:58.737</td>\n",
       "      <td>12.276000</td>\n",
       "    </tr>\n",
       "    <tr>\n",
       "      <th>2</th>\n",
       "      <td>0:09:59.725</td>\n",
       "      <td>9.252000</td>\n",
       "    </tr>\n",
       "    <tr>\n",
       "      <th>3</th>\n",
       "      <td>0:10:00.745</td>\n",
       "      <td>12.276000</td>\n",
       "    </tr>\n",
       "    <tr>\n",
       "      <th>4</th>\n",
       "      <td>0:10:01.730</td>\n",
       "      <td>23.147999</td>\n",
       "    </tr>\n",
       "  </tbody>\n",
       "</table>\n",
       "</div>"
      ],
      "text/plain": [
       "          Time  Event_val\n",
       "0  0:09:54.303   0.000000\n",
       "1  0:09:58.737  12.276000\n",
       "2  0:09:59.725   9.252000\n",
       "3  0:10:00.745  12.276000\n",
       "4  0:10:01.730  23.147999"
      ]
     },
     "execution_count": 9,
     "metadata": {},
     "output_type": "execute_result"
    }
   ],
   "source": [
    "DS_Event = pd.read_csv(EventFilename).drop('Unnamed: 2',1)\n",
    "DS_Event.head()"
   ]
  },
  {
   "cell_type": "code",
   "execution_count": 10,
   "metadata": {},
   "outputs": [
    {
     "name": "stdout",
     "output_type": "stream",
     "text": [
      "(1023, 2)\n",
      "(983, 2)\n"
     ]
    }
   ],
   "source": [
    "if (mode == 'Training'):\n",
    "    print(DS_Event.shape)\n",
    "    DS_Event = DS_Event.dropna()\n",
    "    print(DS_Event.shape)"
   ]
  },
  {
   "cell_type": "code",
   "execution_count": 11,
   "metadata": {},
   "outputs": [
    {
     "data": {
      "text/plain": [
       "(983, 2)"
      ]
     },
     "execution_count": 11,
     "metadata": {},
     "output_type": "execute_result"
    }
   ],
   "source": [
    "DS_Event.shape"
   ]
  },
  {
   "cell_type": "code",
   "execution_count": 12,
   "metadata": {},
   "outputs": [
    {
     "data": {
      "text/plain": [
       "False"
      ]
     },
     "execution_count": 12,
     "metadata": {},
     "output_type": "execute_result"
    }
   ],
   "source": [
    "DS_Event['Event_val'].isna().any()"
   ]
  },
  {
   "cell_type": "code",
   "execution_count": 13,
   "metadata": {},
   "outputs": [
    {
     "data": {
      "text/html": [
       "<div>\n",
       "<style scoped>\n",
       "    .dataframe tbody tr th:only-of-type {\n",
       "        vertical-align: middle;\n",
       "    }\n",
       "\n",
       "    .dataframe tbody tr th {\n",
       "        vertical-align: top;\n",
       "    }\n",
       "\n",
       "    .dataframe thead th {\n",
       "        text-align: right;\n",
       "    }\n",
       "</style>\n",
       "<table border=\"1\" class=\"dataframe\">\n",
       "  <thead>\n",
       "    <tr style=\"text-align: right;\">\n",
       "      <th></th>\n",
       "      <th>Time</th>\n",
       "      <th>Event_val</th>\n",
       "    </tr>\n",
       "  </thead>\n",
       "  <tbody>\n",
       "  </tbody>\n",
       "</table>\n",
       "</div>"
      ],
      "text/plain": [
       "Empty DataFrame\n",
       "Columns: [Time, Event_val]\n",
       "Index: []"
      ]
     },
     "execution_count": 13,
     "metadata": {},
     "output_type": "execute_result"
    }
   ],
   "source": [
    "DS_Event[DS_Event['Event_val'].isna()]"
   ]
  },
  {
   "cell_type": "code",
   "execution_count": 14,
   "metadata": {},
   "outputs": [],
   "source": [
    "# only for Test Data\n",
    "if (mode == 'Test'):\n",
    "    DS_Event['Event_val'] = DS_Event['Event_val'].fillna(1000)"
   ]
  },
  {
   "cell_type": "code",
   "execution_count": 15,
   "metadata": {},
   "outputs": [
    {
     "data": {
      "text/html": [
       "<div>\n",
       "<style scoped>\n",
       "    .dataframe tbody tr th:only-of-type {\n",
       "        vertical-align: middle;\n",
       "    }\n",
       "\n",
       "    .dataframe tbody tr th {\n",
       "        vertical-align: top;\n",
       "    }\n",
       "\n",
       "    .dataframe thead th {\n",
       "        text-align: right;\n",
       "    }\n",
       "</style>\n",
       "<table border=\"1\" class=\"dataframe\">\n",
       "  <thead>\n",
       "    <tr style=\"text-align: right;\">\n",
       "      <th></th>\n",
       "      <th>Time</th>\n",
       "      <th>Event_val</th>\n",
       "    </tr>\n",
       "  </thead>\n",
       "  <tbody>\n",
       "    <tr>\n",
       "      <th>0</th>\n",
       "      <td>0:09:54.303</td>\n",
       "      <td>0.000000</td>\n",
       "    </tr>\n",
       "    <tr>\n",
       "      <th>1</th>\n",
       "      <td>0:09:58.737</td>\n",
       "      <td>12.276000</td>\n",
       "    </tr>\n",
       "    <tr>\n",
       "      <th>2</th>\n",
       "      <td>0:09:59.725</td>\n",
       "      <td>9.252000</td>\n",
       "    </tr>\n",
       "    <tr>\n",
       "      <th>3</th>\n",
       "      <td>0:10:00.745</td>\n",
       "      <td>12.276000</td>\n",
       "    </tr>\n",
       "    <tr>\n",
       "      <th>4</th>\n",
       "      <td>0:10:01.730</td>\n",
       "      <td>23.147999</td>\n",
       "    </tr>\n",
       "  </tbody>\n",
       "</table>\n",
       "</div>"
      ],
      "text/plain": [
       "          Time  Event_val\n",
       "0  0:09:54.303   0.000000\n",
       "1  0:09:58.737  12.276000\n",
       "2  0:09:59.725   9.252000\n",
       "3  0:10:00.745  12.276000\n",
       "4  0:10:01.730  23.147999"
      ]
     },
     "execution_count": 15,
     "metadata": {},
     "output_type": "execute_result"
    }
   ],
   "source": [
    "DS_Event.head()"
   ]
  },
  {
   "cell_type": "code",
   "execution_count": 16,
   "metadata": {},
   "outputs": [
    {
     "name": "stdout",
     "output_type": "stream",
     "text": [
      "(983, 2)\n",
      "(983, 2)\n"
     ]
    }
   ],
   "source": [
    "print(DS_Event.shape)\n",
    "DS_Event = DS_Event.dropna()\n",
    "print(DS_Event.shape)"
   ]
  },
  {
   "cell_type": "code",
   "execution_count": 17,
   "metadata": {},
   "outputs": [],
   "source": [
    "#DS_Event[DS_Event['Event_val']>99]"
   ]
  },
  {
   "cell_type": "markdown",
   "metadata": {},
   "source": [
    "# Training Dataset"
   ]
  },
  {
   "cell_type": "code",
   "execution_count": 18,
   "metadata": {},
   "outputs": [],
   "source": [
    "#trainingDS_Sensor = pd.read_csv('DatathonAI2018\\data\\DatathoanAISensordataTrng.csv').drop(['Unnamed: 6','Unnamed: 7'],1)\n",
    "#trainingDS_Sensor.shape"
   ]
  },
  {
   "cell_type": "code",
   "execution_count": 19,
   "metadata": {},
   "outputs": [],
   "source": [
    "#trainingDS_Sensor = trainingDS_Sensor.dropna()\n",
    "#trainingDS_Sensor.shape"
   ]
  },
  {
   "cell_type": "code",
   "execution_count": 20,
   "metadata": {},
   "outputs": [],
   "source": [
    "#trainingDS_Event = pd.read_csv('DatathonAI2018\\data\\DatathoanAIEventdataTrng.csv').drop('Unnamed: 2',1)\n",
    "#trainingDS_Event.head()"
   ]
  },
  {
   "cell_type": "code",
   "execution_count": 21,
   "metadata": {},
   "outputs": [],
   "source": [
    "#print(trainingDS_Event.shape)\n",
    "#trainingDS_Event = trainingDS_Event.dropna()\n",
    "#print(trainingDS_Event.shape)"
   ]
  },
  {
   "cell_type": "markdown",
   "metadata": {},
   "source": [
    "### Merge training - Sensor and event data"
   ]
  },
  {
   "cell_type": "code",
   "execution_count": 22,
   "metadata": {},
   "outputs": [
    {
     "data": {
      "text/plain": [
       "(63588, 7)"
      ]
     },
     "execution_count": 22,
     "metadata": {},
     "output_type": "execute_result"
    }
   ],
   "source": [
    "dataset = pd.merge(DS_Sensor,DS_Event, on='Time',how='outer')\n",
    "dataset.shape"
   ]
  },
  {
   "cell_type": "code",
   "execution_count": 23,
   "metadata": {},
   "outputs": [],
   "source": [
    "dataset = dataset.sort_values('Time').reset_index(drop=True)"
   ]
  },
  {
   "cell_type": "code",
   "execution_count": 24,
   "metadata": {},
   "outputs": [
    {
     "data": {
      "text/html": [
       "<div>\n",
       "<style scoped>\n",
       "    .dataframe tbody tr th:only-of-type {\n",
       "        vertical-align: middle;\n",
       "    }\n",
       "\n",
       "    .dataframe tbody tr th {\n",
       "        vertical-align: top;\n",
       "    }\n",
       "\n",
       "    .dataframe thead th {\n",
       "        text-align: right;\n",
       "    }\n",
       "</style>\n",
       "<table border=\"1\" class=\"dataframe\">\n",
       "  <thead>\n",
       "    <tr style=\"text-align: right;\">\n",
       "      <th></th>\n",
       "      <th>Time</th>\n",
       "      <th>S1</th>\n",
       "      <th>S2</th>\n",
       "      <th>S3</th>\n",
       "      <th>S4</th>\n",
       "      <th>S5</th>\n",
       "      <th>Event_val</th>\n",
       "    </tr>\n",
       "  </thead>\n",
       "  <tbody>\n",
       "    <tr>\n",
       "      <th>63583</th>\n",
       "      <td>0:38:31.652</td>\n",
       "      <td>5.088882</td>\n",
       "      <td>-1.481812</td>\n",
       "      <td>8.550446</td>\n",
       "      <td>0.990970</td>\n",
       "      <td>0.933973</td>\n",
       "      <td>NaN</td>\n",
       "    </tr>\n",
       "    <tr>\n",
       "      <th>63584</th>\n",
       "      <td>0:38:31.655</td>\n",
       "      <td>4.930878</td>\n",
       "      <td>-1.499786</td>\n",
       "      <td>8.017746</td>\n",
       "      <td>0.990951</td>\n",
       "      <td>0.933985</td>\n",
       "      <td>NaN</td>\n",
       "    </tr>\n",
       "    <tr>\n",
       "      <th>63585</th>\n",
       "      <td>0:38:31.661</td>\n",
       "      <td>5.242111</td>\n",
       "      <td>-1.182541</td>\n",
       "      <td>8.386444</td>\n",
       "      <td>0.990913</td>\n",
       "      <td>0.934009</td>\n",
       "      <td>NaN</td>\n",
       "    </tr>\n",
       "    <tr>\n",
       "      <th>63586</th>\n",
       "      <td>0:38:31.663</td>\n",
       "      <td>4.539413</td>\n",
       "      <td>-1.036499</td>\n",
       "      <td>7.819031</td>\n",
       "      <td>0.990900</td>\n",
       "      <td>0.934017</td>\n",
       "      <td>NaN</td>\n",
       "    </tr>\n",
       "    <tr>\n",
       "      <th>63587</th>\n",
       "      <td>0:38:31.686</td>\n",
       "      <td>4.693848</td>\n",
       "      <td>-0.791092</td>\n",
       "      <td>7.890854</td>\n",
       "      <td>0.990753</td>\n",
       "      <td>0.934108</td>\n",
       "      <td>NaN</td>\n",
       "    </tr>\n",
       "  </tbody>\n",
       "</table>\n",
       "</div>"
      ],
      "text/plain": [
       "              Time        S1        S2        S3        S4        S5  \\\n",
       "63583  0:38:31.652  5.088882 -1.481812  8.550446  0.990970  0.933973   \n",
       "63584  0:38:31.655  4.930878 -1.499786  8.017746  0.990951  0.933985   \n",
       "63585  0:38:31.661  5.242111 -1.182541  8.386444  0.990913  0.934009   \n",
       "63586  0:38:31.663  4.539413 -1.036499  7.819031  0.990900  0.934017   \n",
       "63587  0:38:31.686  4.693848 -0.791092  7.890854  0.990753  0.934108   \n",
       "\n",
       "       Event_val  \n",
       "63583        NaN  \n",
       "63584        NaN  \n",
       "63585        NaN  \n",
       "63586        NaN  \n",
       "63587        NaN  "
      ]
     },
     "execution_count": 24,
     "metadata": {},
     "output_type": "execute_result"
    }
   ],
   "source": [
    "dataset.tail()"
   ]
  },
  {
   "cell_type": "code",
   "execution_count": 25,
   "metadata": {
    "scrolled": true
   },
   "outputs": [
    {
     "data": {
      "text/plain": [
       "False    62605\n",
       "True       983\n",
       "Name: Event_val, dtype: int64"
      ]
     },
     "execution_count": 25,
     "metadata": {},
     "output_type": "execute_result"
    }
   ],
   "source": [
    "dataset['Event_val'].notnull().value_counts()"
   ]
  },
  {
   "cell_type": "code",
   "execution_count": 26,
   "metadata": {},
   "outputs": [],
   "source": [
    "# function to calculate elapased time in millisecond - from 1st record\n",
    "def GetElapasedTime(df):\n",
    "    df_copy =df.copy()\n",
    "    import datetime\n",
    "    ElapasedTime = []\n",
    "    TimeElapased=0\n",
    "    for i in range(len(df_copy)):\n",
    "        if (i==0):\n",
    "            t1=datetime.datetime.strptime(df_copy['Time'].iloc[i], \"%H:%M:%S.%f\")\n",
    "            \n",
    "        t2 = datetime.datetime.strptime(df_copy['Time'].iloc[i], \"%H:%M:%S.%f\")\n",
    "        TimeElapased = TimeElapased + (t2-t1).total_seconds()*1000\n",
    "        #TimeElapased = (t2-t1).total_seconds()*1000\n",
    "        #print(t1)\n",
    "        #print(t2)\n",
    "        t1= t2\n",
    "        ElapasedTime.append(TimeElapased)\n",
    "    df_copy['ElapasedTime'] = ElapasedTime\n",
    "    return df_copy    "
   ]
  },
  {
   "cell_type": "code",
   "execution_count": 27,
   "metadata": {},
   "outputs": [],
   "source": [
    "dataset = GetElapasedTime(dataset)"
   ]
  },
  {
   "cell_type": "code",
   "execution_count": 28,
   "metadata": {},
   "outputs": [
    {
     "data": {
      "text/html": [
       "<div>\n",
       "<style scoped>\n",
       "    .dataframe tbody tr th:only-of-type {\n",
       "        vertical-align: middle;\n",
       "    }\n",
       "\n",
       "    .dataframe tbody tr th {\n",
       "        vertical-align: top;\n",
       "    }\n",
       "\n",
       "    .dataframe thead th {\n",
       "        text-align: right;\n",
       "    }\n",
       "</style>\n",
       "<table border=\"1\" class=\"dataframe\">\n",
       "  <thead>\n",
       "    <tr style=\"text-align: right;\">\n",
       "      <th></th>\n",
       "      <th>Time</th>\n",
       "      <th>S1</th>\n",
       "      <th>S2</th>\n",
       "      <th>S3</th>\n",
       "      <th>S4</th>\n",
       "      <th>S5</th>\n",
       "      <th>Event_val</th>\n",
       "      <th>ElapasedTime</th>\n",
       "    </tr>\n",
       "  </thead>\n",
       "  <tbody>\n",
       "    <tr>\n",
       "      <th>63583</th>\n",
       "      <td>0:38:31.652</td>\n",
       "      <td>5.088882</td>\n",
       "      <td>-1.481812</td>\n",
       "      <td>8.550446</td>\n",
       "      <td>0.990970</td>\n",
       "      <td>0.933973</td>\n",
       "      <td>NaN</td>\n",
       "      <td>1717349.0</td>\n",
       "    </tr>\n",
       "    <tr>\n",
       "      <th>63584</th>\n",
       "      <td>0:38:31.655</td>\n",
       "      <td>4.930878</td>\n",
       "      <td>-1.499786</td>\n",
       "      <td>8.017746</td>\n",
       "      <td>0.990951</td>\n",
       "      <td>0.933985</td>\n",
       "      <td>NaN</td>\n",
       "      <td>1717352.0</td>\n",
       "    </tr>\n",
       "    <tr>\n",
       "      <th>63585</th>\n",
       "      <td>0:38:31.661</td>\n",
       "      <td>5.242111</td>\n",
       "      <td>-1.182541</td>\n",
       "      <td>8.386444</td>\n",
       "      <td>0.990913</td>\n",
       "      <td>0.934009</td>\n",
       "      <td>NaN</td>\n",
       "      <td>1717358.0</td>\n",
       "    </tr>\n",
       "    <tr>\n",
       "      <th>63586</th>\n",
       "      <td>0:38:31.663</td>\n",
       "      <td>4.539413</td>\n",
       "      <td>-1.036499</td>\n",
       "      <td>7.819031</td>\n",
       "      <td>0.990900</td>\n",
       "      <td>0.934017</td>\n",
       "      <td>NaN</td>\n",
       "      <td>1717360.0</td>\n",
       "    </tr>\n",
       "    <tr>\n",
       "      <th>63587</th>\n",
       "      <td>0:38:31.686</td>\n",
       "      <td>4.693848</td>\n",
       "      <td>-0.791092</td>\n",
       "      <td>7.890854</td>\n",
       "      <td>0.990753</td>\n",
       "      <td>0.934108</td>\n",
       "      <td>NaN</td>\n",
       "      <td>1717383.0</td>\n",
       "    </tr>\n",
       "  </tbody>\n",
       "</table>\n",
       "</div>"
      ],
      "text/plain": [
       "              Time        S1        S2        S3        S4        S5  \\\n",
       "63583  0:38:31.652  5.088882 -1.481812  8.550446  0.990970  0.933973   \n",
       "63584  0:38:31.655  4.930878 -1.499786  8.017746  0.990951  0.933985   \n",
       "63585  0:38:31.661  5.242111 -1.182541  8.386444  0.990913  0.934009   \n",
       "63586  0:38:31.663  4.539413 -1.036499  7.819031  0.990900  0.934017   \n",
       "63587  0:38:31.686  4.693848 -0.791092  7.890854  0.990753  0.934108   \n",
       "\n",
       "       Event_val  ElapasedTime  \n",
       "63583        NaN     1717349.0  \n",
       "63584        NaN     1717352.0  \n",
       "63585        NaN     1717358.0  \n",
       "63586        NaN     1717360.0  \n",
       "63587        NaN     1717383.0  "
      ]
     },
     "execution_count": 28,
     "metadata": {},
     "output_type": "execute_result"
    }
   ],
   "source": [
    "dataset.tail()"
   ]
  },
  {
   "cell_type": "markdown",
   "metadata": {},
   "source": [
    "### Plot"
   ]
  },
  {
   "cell_type": "code",
   "execution_count": 29,
   "metadata": {},
   "outputs": [],
   "source": [
    "def plotdata(df,filename):\n",
    "    plotfilename = filename # 'DatathoanTraining'\n",
    "    df_copy = df.copy()\n",
    "    import matplotlib.pyplot as plt\n",
    "    from matplotlib import cm\n",
    "    import numpy as np\n",
    "\n",
    "    fig = plt.figure(figsize=(20,10))\n",
    "\n",
    "    x = df_copy['ElapasedTime']\n",
    "    y1 = df_copy['S1']\n",
    "    y2 = df_copy['S2']\n",
    "    y3 = df_copy['S3']\n",
    "    y4 = df_copy['S4']\n",
    "    y5 = df_copy['S5']\n",
    "\n",
    "    ax1 = fig.add_subplot(511)\n",
    "    ax1.plot(x,y1,color='skyblue')\n",
    "    ax1.set(title='S1')\n",
    "    ax1.set_xticklabels([])\n",
    "    #ax1.axis('off')\n",
    "\n",
    "    ax2 = fig.add_subplot(512)\n",
    "    ax2.plot(x,y2,color='seagreen')\n",
    "    ax2.set(title='S2')\n",
    "    ax2.set_xticklabels([])\n",
    "\n",
    "    ax3 = fig.add_subplot(513)\n",
    "    ax3.plot(x,y3,color='thistle')\n",
    "    ax3.set(title='S3')\n",
    "    ax3.set_xticklabels([])\n",
    "\n",
    "    ax4 = fig.add_subplot(514)\n",
    "    ax4.plot(x,y4,color='brown')\n",
    "    ax4.set(title='S4')\n",
    "    ax4.set_xticklabels([])\n",
    "\n",
    "    ax5 = fig.add_subplot(515)\n",
    "    ax5.plot(x,y5,color='purple')\n",
    "    ax5.set(title='S5')\n",
    "    #ax5.set_xticklabels([])\n",
    "\n",
    "    #plt.tight_layout()\n",
    "    fig.savefig(filename, dpi=fig.dpi)\n",
    "    plt.show()"
   ]
  },
  {
   "cell_type": "code",
   "execution_count": 30,
   "metadata": {},
   "outputs": [
    {
     "data": {
      "image/png": "[encoded data removed]",
      "text/plain": [
       "<Figure size 1440x720 with 5 Axes>"
      ]
     },
     "metadata": {},
     "output_type": "display_data"
    }
   ],
   "source": [
    "if (mode == 'Training'):\n",
    "    plotdata(dataset,'DatathoanTraining')\n",
    "else:\n",
    "    plotdata(dataset,'DatathoanTest')"
   ]
  },
  {
   "cell_type": "code",
   "execution_count": 31,
   "metadata": {},
   "outputs": [
    {
     "data": {
      "text/html": [
       "<div>\n",
       "<style scoped>\n",
       "    .dataframe tbody tr th:only-of-type {\n",
       "        vertical-align: middle;\n",
       "    }\n",
       "\n",
       "    .dataframe tbody tr th {\n",
       "        vertical-align: top;\n",
       "    }\n",
       "\n",
       "    .dataframe thead th {\n",
       "        text-align: right;\n",
       "    }\n",
       "</style>\n",
       "<table border=\"1\" class=\"dataframe\">\n",
       "  <thead>\n",
       "    <tr style=\"text-align: right;\">\n",
       "      <th></th>\n",
       "      <th>Time</th>\n",
       "      <th>S1</th>\n",
       "      <th>S2</th>\n",
       "      <th>S3</th>\n",
       "      <th>S4</th>\n",
       "      <th>S5</th>\n",
       "      <th>Event_val</th>\n",
       "      <th>ElapasedTime</th>\n",
       "    </tr>\n",
       "  </thead>\n",
       "  <tbody>\n",
       "    <tr>\n",
       "      <th>1</th>\n",
       "      <td>0:09:54.368</td>\n",
       "      <td>1.958466</td>\n",
       "      <td>6.599808</td>\n",
       "      <td>6.539322</td>\n",
       "      <td>6.878428</td>\n",
       "      <td>3.988469</td>\n",
       "      <td>NaN</td>\n",
       "      <td>65.0</td>\n",
       "    </tr>\n",
       "    <tr>\n",
       "      <th>2</th>\n",
       "      <td>0:09:54.375</td>\n",
       "      <td>1.355133</td>\n",
       "      <td>7.016403</td>\n",
       "      <td>6.212509</td>\n",
       "      <td>6.878428</td>\n",
       "      <td>3.988469</td>\n",
       "      <td>NaN</td>\n",
       "      <td>72.0</td>\n",
       "    </tr>\n",
       "    <tr>\n",
       "      <th>3</th>\n",
       "      <td>0:09:54.379</td>\n",
       "      <td>1.328796</td>\n",
       "      <td>7.343216</td>\n",
       "      <td>6.048508</td>\n",
       "      <td>6.878428</td>\n",
       "      <td>3.988469</td>\n",
       "      <td>NaN</td>\n",
       "      <td>76.0</td>\n",
       "    </tr>\n",
       "    <tr>\n",
       "      <th>4</th>\n",
       "      <td>0:09:54.388</td>\n",
       "      <td>1.221054</td>\n",
       "      <td>8.217102</td>\n",
       "      <td>6.684174</td>\n",
       "      <td>6.878428</td>\n",
       "      <td>3.988469</td>\n",
       "      <td>NaN</td>\n",
       "      <td>85.0</td>\n",
       "    </tr>\n",
       "    <tr>\n",
       "      <th>5</th>\n",
       "      <td>0:09:54.413</td>\n",
       "      <td>1.075012</td>\n",
       "      <td>8.525955</td>\n",
       "      <td>7.188156</td>\n",
       "      <td>6.878428</td>\n",
       "      <td>3.988469</td>\n",
       "      <td>NaN</td>\n",
       "      <td>110.0</td>\n",
       "    </tr>\n",
       "  </tbody>\n",
       "</table>\n",
       "</div>"
      ],
      "text/plain": [
       "          Time        S1        S2        S3        S4        S5  Event_val  \\\n",
       "1  0:09:54.368  1.958466  6.599808  6.539322  6.878428  3.988469        NaN   \n",
       "2  0:09:54.375  1.355133  7.016403  6.212509  6.878428  3.988469        NaN   \n",
       "3  0:09:54.379  1.328796  7.343216  6.048508  6.878428  3.988469        NaN   \n",
       "4  0:09:54.388  1.221054  8.217102  6.684174  6.878428  3.988469        NaN   \n",
       "5  0:09:54.413  1.075012  8.525955  7.188156  6.878428  3.988469        NaN   \n",
       "\n",
       "   ElapasedTime  \n",
       "1          65.0  \n",
       "2          72.0  \n",
       "3          76.0  \n",
       "4          85.0  \n",
       "5         110.0  "
      ]
     },
     "execution_count": 31,
     "metadata": {},
     "output_type": "execute_result"
    }
   ],
   "source": [
    "dataset[dataset['Event_val'].isna()].head()"
   ]
  },
  {
   "cell_type": "code",
   "execution_count": 32,
   "metadata": {},
   "outputs": [],
   "source": [
    "dataset['Event_val'] = dataset['Event_val'].fillna(-999)"
   ]
  },
  {
   "cell_type": "code",
   "execution_count": 33,
   "metadata": {},
   "outputs": [],
   "source": [
    "def fillMissingData(df):\n",
    "    df_copy = df.copy()\n",
    "    MissingIndex = df_copy[df_copy['Event_val']>=0].index.values # >0\n",
    "    for i in MissingIndex:\n",
    "        previous = i-1\n",
    "        current = i\n",
    "        nextIndex = i+1\n",
    "      \n",
    "        while (df_copy.iloc[nextIndex].isnull()['S1']):\n",
    "            nextIndex = nextIndex+1\n",
    "\n",
    "            \n",
    "        if (previous>=0):\n",
    "            s1 = df_copy.iloc[previous]['S1'] + ((df_copy.iloc[nextIndex]['S1'] - df_copy.iloc[previous]['S1'])/(df_copy.iloc[nextIndex]['ElapasedTime'] - df_copy.iloc[previous]['ElapasedTime']))*(df_copy.iloc[current]['ElapasedTime'] - df_copy.iloc[previous]['ElapasedTime'])\n",
    "            s2 = df_copy.iloc[previous]['S2'] + ((df_copy.iloc[nextIndex]['S2'] - df_copy.iloc[previous]['S2'])/(df_copy.iloc[nextIndex]['ElapasedTime'] - df_copy.iloc[previous]['ElapasedTime']))*(df_copy.iloc[current]['ElapasedTime'] - df_copy.iloc[previous]['ElapasedTime'])\n",
    "            s3 = df_copy.iloc[previous]['S3'] + ((df_copy.iloc[nextIndex]['S3'] - df_copy.iloc[previous]['S3'])/(df_copy.iloc[nextIndex]['ElapasedTime'] - df_copy.iloc[previous]['ElapasedTime']))*(df_copy.iloc[current]['ElapasedTime'] - df_copy.iloc[previous]['ElapasedTime'])\n",
    "            s4 = df_copy.iloc[previous]['S4'] + ((df_copy.iloc[nextIndex]['S4'] - df_copy.iloc[previous]['S4'])/(df_copy.iloc[nextIndex]['ElapasedTime'] - df_copy.iloc[previous]['ElapasedTime']))*(df_copy.iloc[current]['ElapasedTime'] - df_copy.iloc[previous]['ElapasedTime'])\n",
    "            s5 = df_copy.iloc[previous]['S5'] + ((df_copy.iloc[nextIndex]['S5'] - df_copy.iloc[previous]['S5'])/(df_copy.iloc[nextIndex]['ElapasedTime'] - df_copy.iloc[previous]['ElapasedTime']))*(df_copy.iloc[current]['ElapasedTime'] - df_copy.iloc[previous]['ElapasedTime'])\n",
    "\n",
    "            df_copy.loc[current,'S1']= s1\n",
    "            df_copy.loc[current,'S2']= s2\n",
    "            df_copy.loc[current,'S3']= s3\n",
    "            df_copy.loc[current,'S4']= s4\n",
    "            df_copy.loc[current,'S5']= s5        \n",
    "    return df_copy"
   ]
  },
  {
   "cell_type": "code",
   "execution_count": 34,
   "metadata": {},
   "outputs": [
    {
     "data": {
      "text/plain": [
       "Time             object\n",
       "S1              float64\n",
       "S2              float64\n",
       "S3              float64\n",
       "S4              float64\n",
       "S5              float64\n",
       "Event_val       float64\n",
       "ElapasedTime    float64\n",
       "dtype: object"
      ]
     },
     "execution_count": 34,
     "metadata": {},
     "output_type": "execute_result"
    }
   ],
   "source": [
    "#dataset[dataset['Event_val']>=0]\n",
    "dataset.dtypes"
   ]
  },
  {
   "cell_type": "code",
   "execution_count": 35,
   "metadata": {},
   "outputs": [],
   "source": [
    "dataset = fillMissingData(dataset)"
   ]
  },
  {
   "cell_type": "code",
   "execution_count": 36,
   "metadata": {},
   "outputs": [
    {
     "data": {
      "text/html": [
       "<div>\n",
       "<style scoped>\n",
       "    .dataframe tbody tr th:only-of-type {\n",
       "        vertical-align: middle;\n",
       "    }\n",
       "\n",
       "    .dataframe tbody tr th {\n",
       "        vertical-align: top;\n",
       "    }\n",
       "\n",
       "    .dataframe thead th {\n",
       "        text-align: right;\n",
       "    }\n",
       "</style>\n",
       "<table border=\"1\" class=\"dataframe\">\n",
       "  <thead>\n",
       "    <tr style=\"text-align: right;\">\n",
       "      <th></th>\n",
       "      <th>Time</th>\n",
       "      <th>S1</th>\n",
       "      <th>S2</th>\n",
       "      <th>S3</th>\n",
       "      <th>S4</th>\n",
       "      <th>S5</th>\n",
       "      <th>Event_val</th>\n",
       "      <th>ElapasedTime</th>\n",
       "    </tr>\n",
       "  </thead>\n",
       "  <tbody>\n",
       "    <tr>\n",
       "      <th>0</th>\n",
       "      <td>0:09:54.303</td>\n",
       "      <td>2.511536</td>\n",
       "      <td>6.195190</td>\n",
       "      <td>6.600372</td>\n",
       "      <td>6.878428</td>\n",
       "      <td>3.988469</td>\n",
       "      <td>0.0</td>\n",
       "      <td>0.0</td>\n",
       "    </tr>\n",
       "    <tr>\n",
       "      <th>1</th>\n",
       "      <td>0:09:54.368</td>\n",
       "      <td>1.958466</td>\n",
       "      <td>6.599808</td>\n",
       "      <td>6.539322</td>\n",
       "      <td>6.878428</td>\n",
       "      <td>3.988469</td>\n",
       "      <td>-999.0</td>\n",
       "      <td>65.0</td>\n",
       "    </tr>\n",
       "    <tr>\n",
       "      <th>2</th>\n",
       "      <td>0:09:54.375</td>\n",
       "      <td>1.355133</td>\n",
       "      <td>7.016403</td>\n",
       "      <td>6.212509</td>\n",
       "      <td>6.878428</td>\n",
       "      <td>3.988469</td>\n",
       "      <td>-999.0</td>\n",
       "      <td>72.0</td>\n",
       "    </tr>\n",
       "    <tr>\n",
       "      <th>3</th>\n",
       "      <td>0:09:54.379</td>\n",
       "      <td>1.328796</td>\n",
       "      <td>7.343216</td>\n",
       "      <td>6.048508</td>\n",
       "      <td>6.878428</td>\n",
       "      <td>3.988469</td>\n",
       "      <td>-999.0</td>\n",
       "      <td>76.0</td>\n",
       "    </tr>\n",
       "    <tr>\n",
       "      <th>4</th>\n",
       "      <td>0:09:54.388</td>\n",
       "      <td>1.221054</td>\n",
       "      <td>8.217102</td>\n",
       "      <td>6.684174</td>\n",
       "      <td>6.878428</td>\n",
       "      <td>3.988469</td>\n",
       "      <td>-999.0</td>\n",
       "      <td>85.0</td>\n",
       "    </tr>\n",
       "  </tbody>\n",
       "</table>\n",
       "</div>"
      ],
      "text/plain": [
       "          Time        S1        S2        S3        S4        S5  Event_val  \\\n",
       "0  0:09:54.303  2.511536  6.195190  6.600372  6.878428  3.988469        0.0   \n",
       "1  0:09:54.368  1.958466  6.599808  6.539322  6.878428  3.988469     -999.0   \n",
       "2  0:09:54.375  1.355133  7.016403  6.212509  6.878428  3.988469     -999.0   \n",
       "3  0:09:54.379  1.328796  7.343216  6.048508  6.878428  3.988469     -999.0   \n",
       "4  0:09:54.388  1.221054  8.217102  6.684174  6.878428  3.988469     -999.0   \n",
       "\n",
       "   ElapasedTime  \n",
       "0           0.0  \n",
       "1          65.0  \n",
       "2          72.0  \n",
       "3          76.0  \n",
       "4          85.0  "
      ]
     },
     "execution_count": 36,
     "metadata": {},
     "output_type": "execute_result"
    }
   ],
   "source": [
    "dataset.head()"
   ]
  },
  {
   "cell_type": "code",
   "execution_count": 37,
   "metadata": {},
   "outputs": [
    {
     "data": {
      "text/plain": [
       "(False, True)"
      ]
     },
     "execution_count": 37,
     "metadata": {},
     "output_type": "execute_result"
    }
   ],
   "source": [
    "dataset['S1'].isna().any(),dataset['S1'].notna().all()"
   ]
  },
  {
   "cell_type": "code",
   "execution_count": 38,
   "metadata": {},
   "outputs": [
    {
     "data": {
      "text/plain": [
       "(63588, 8)"
      ]
     },
     "execution_count": 38,
     "metadata": {},
     "output_type": "execute_result"
    }
   ],
   "source": [
    "dataset.shape"
   ]
  },
  {
   "cell_type": "code",
   "execution_count": 39,
   "metadata": {},
   "outputs": [],
   "source": [
    "if (mode == 'Training'):\n",
    "    dataset.to_csv('TrainingDataset.csv')\n",
    "else:\n",
    "    dataset.to_csv('TestDataset.csv')"
   ]
  },
  {
   "cell_type": "code",
   "execution_count": 40,
   "metadata": {},
   "outputs": [],
   "source": [
    "#FinalDS = dataset[dataset['Event_val']!=-999].reset_index(drop=True)"
   ]
  },
  {
   "cell_type": "code",
   "execution_count": 41,
   "metadata": {},
   "outputs": [],
   "source": [
    "if (mode == 'Training'):\n",
    "    FinalTrngDS = dataset[dataset['Event_val']!=-999].reset_index(drop=True)\n",
    "else:\n",
    "    #FinalTestDS = FinalDS[FinalDS['Event_val']!=-999].reset_index(drop=True)\n",
    "    FinalTestDS = dataset\n"
   ]
  },
  {
   "cell_type": "code",
   "execution_count": 42,
   "metadata": {},
   "outputs": [
    {
     "data": {
      "text/html": [
       "<div>\n",
       "<style scoped>\n",
       "    .dataframe tbody tr th:only-of-type {\n",
       "        vertical-align: middle;\n",
       "    }\n",
       "\n",
       "    .dataframe tbody tr th {\n",
       "        vertical-align: top;\n",
       "    }\n",
       "\n",
       "    .dataframe thead th {\n",
       "        text-align: right;\n",
       "    }\n",
       "</style>\n",
       "<table border=\"1\" class=\"dataframe\">\n",
       "  <thead>\n",
       "    <tr style=\"text-align: right;\">\n",
       "      <th></th>\n",
       "      <th>Time</th>\n",
       "      <th>S1</th>\n",
       "      <th>S2</th>\n",
       "      <th>S3</th>\n",
       "      <th>S4</th>\n",
       "      <th>S5</th>\n",
       "      <th>Event_val</th>\n",
       "      <th>ElapasedTime</th>\n",
       "    </tr>\n",
       "  </thead>\n",
       "  <tbody>\n",
       "    <tr>\n",
       "      <th>978</th>\n",
       "      <td>0:38:26.602</td>\n",
       "      <td>5.233952</td>\n",
       "      <td>-1.431107</td>\n",
       "      <td>7.408528</td>\n",
       "      <td>1.025671</td>\n",
       "      <td>0.917116</td>\n",
       "      <td>28.584000</td>\n",
       "      <td>1712299.0</td>\n",
       "    </tr>\n",
       "    <tr>\n",
       "      <th>979</th>\n",
       "      <td>0:38:27.691</td>\n",
       "      <td>4.249381</td>\n",
       "      <td>-1.156721</td>\n",
       "      <td>9.368759</td>\n",
       "      <td>1.017413</td>\n",
       "      <td>0.920567</td>\n",
       "      <td>31.104001</td>\n",
       "      <td>1713388.0</td>\n",
       "    </tr>\n",
       "    <tr>\n",
       "      <th>980</th>\n",
       "      <td>0:38:28.678</td>\n",
       "      <td>4.476321</td>\n",
       "      <td>-2.005435</td>\n",
       "      <td>9.619458</td>\n",
       "      <td>1.010383</td>\n",
       "      <td>0.923541</td>\n",
       "      <td>29.592001</td>\n",
       "      <td>1714375.0</td>\n",
       "    </tr>\n",
       "    <tr>\n",
       "      <th>981</th>\n",
       "      <td>0:38:29.576</td>\n",
       "      <td>4.575018</td>\n",
       "      <td>-1.615453</td>\n",
       "      <td>8.138397</td>\n",
       "      <td>1.003851</td>\n",
       "      <td>0.925565</td>\n",
       "      <td>28.872002</td>\n",
       "      <td>1715273.0</td>\n",
       "    </tr>\n",
       "    <tr>\n",
       "      <th>982</th>\n",
       "      <td>0:38:30.651</td>\n",
       "      <td>6.096842</td>\n",
       "      <td>-1.075211</td>\n",
       "      <td>7.128698</td>\n",
       "      <td>0.997355</td>\n",
       "      <td>0.929995</td>\n",
       "      <td>29.663999</td>\n",
       "      <td>1716348.0</td>\n",
       "    </tr>\n",
       "  </tbody>\n",
       "</table>\n",
       "</div>"
      ],
      "text/plain": [
       "            Time        S1        S2        S3        S4        S5  Event_val  \\\n",
       "978  0:38:26.602  5.233952 -1.431107  7.408528  1.025671  0.917116  28.584000   \n",
       "979  0:38:27.691  4.249381 -1.156721  9.368759  1.017413  0.920567  31.104001   \n",
       "980  0:38:28.678  4.476321 -2.005435  9.619458  1.010383  0.923541  29.592001   \n",
       "981  0:38:29.576  4.575018 -1.615453  8.138397  1.003851  0.925565  28.872002   \n",
       "982  0:38:30.651  6.096842 -1.075211  7.128698  0.997355  0.929995  29.663999   \n",
       "\n",
       "     ElapasedTime  \n",
       "978     1712299.0  \n",
       "979     1713388.0  \n",
       "980     1714375.0  \n",
       "981     1715273.0  \n",
       "982     1716348.0  "
      ]
     },
     "execution_count": 42,
     "metadata": {},
     "output_type": "execute_result"
    }
   ],
   "source": [
    "FinalTrngDS.tail()"
   ]
  },
  {
   "cell_type": "markdown",
   "metadata": {},
   "source": [
    "# Build Model"
   ]
  },
  {
   "cell_type": "code",
   "execution_count": 43,
   "metadata": {},
   "outputs": [],
   "source": [
    "# Correlation"
   ]
  },
  {
   "cell_type": "code",
   "execution_count": 44,
   "metadata": {},
   "outputs": [
    {
     "data": {
      "text/html": [
       "<style  type=\"text/css\" >\n",
       "    #T_8021481a_3a41_11e9_9ac7_54e1adf13d1frow0_col0 {\n",
       "            background-color:  #023858;\n",
       "        }    #T_8021481a_3a41_11e9_9ac7_54e1adf13d1frow0_col1 {\n",
       "            background-color:  #adc1dd;\n",
       "        }    #T_8021481a_3a41_11e9_9ac7_54e1adf13d1frow0_col2 {\n",
       "            background-color:  #96b6d7;\n",
       "        }    #T_8021481a_3a41_11e9_9ac7_54e1adf13d1frow0_col3 {\n",
       "            background-color:  #c9cee4;\n",
       "        }    #T_8021481a_3a41_11e9_9ac7_54e1adf13d1frow0_col4 {\n",
       "            background-color:  #bfc9e1;\n",
       "        }    #T_8021481a_3a41_11e9_9ac7_54e1adf13d1frow0_col5 {\n",
       "            background-color:  #c1cae2;\n",
       "        }    #T_8021481a_3a41_11e9_9ac7_54e1adf13d1frow1_col0 {\n",
       "            background-color:  #fff7fb;\n",
       "        }    #T_8021481a_3a41_11e9_9ac7_54e1adf13d1frow1_col1 {\n",
       "            background-color:  #023858;\n",
       "        }    #T_8021481a_3a41_11e9_9ac7_54e1adf13d1frow1_col2 {\n",
       "            background-color:  #fff7fb;\n",
       "        }    #T_8021481a_3a41_11e9_9ac7_54e1adf13d1frow1_col3 {\n",
       "            background-color:  #0872b1;\n",
       "        }    #T_8021481a_3a41_11e9_9ac7_54e1adf13d1frow1_col4 {\n",
       "            background-color:  #2d8abd;\n",
       "        }    #T_8021481a_3a41_11e9_9ac7_54e1adf13d1frow1_col5 {\n",
       "            background-color:  #8eb3d5;\n",
       "        }    #T_8021481a_3a41_11e9_9ac7_54e1adf13d1frow2_col0 {\n",
       "            background-color:  #f0eaf4;\n",
       "        }    #T_8021481a_3a41_11e9_9ac7_54e1adf13d1frow2_col1 {\n",
       "            background-color:  #fff7fb;\n",
       "        }    #T_8021481a_3a41_11e9_9ac7_54e1adf13d1frow2_col2 {\n",
       "            background-color:  #023858;\n",
       "        }    #T_8021481a_3a41_11e9_9ac7_54e1adf13d1frow2_col3 {\n",
       "            background-color:  #fff7fb;\n",
       "        }    #T_8021481a_3a41_11e9_9ac7_54e1adf13d1frow2_col4 {\n",
       "            background-color:  #fff7fb;\n",
       "        }    #T_8021481a_3a41_11e9_9ac7_54e1adf13d1frow2_col5 {\n",
       "            background-color:  #fff7fb;\n",
       "        }    #T_8021481a_3a41_11e9_9ac7_54e1adf13d1frow3_col0 {\n",
       "            background-color:  #efe9f3;\n",
       "        }    #T_8021481a_3a41_11e9_9ac7_54e1adf13d1frow3_col1 {\n",
       "            background-color:  #0568a3;\n",
       "        }    #T_8021481a_3a41_11e9_9ac7_54e1adf13d1frow3_col2 {\n",
       "            background-color:  #d9d8ea;\n",
       "        }    #T_8021481a_3a41_11e9_9ac7_54e1adf13d1frow3_col3 {\n",
       "            background-color:  #023858;\n",
       "        }    #T_8021481a_3a41_11e9_9ac7_54e1adf13d1frow3_col4 {\n",
       "            background-color:  #034369;\n",
       "        }    #T_8021481a_3a41_11e9_9ac7_54e1adf13d1frow3_col5 {\n",
       "            background-color:  #71a8ce;\n",
       "        }    #T_8021481a_3a41_11e9_9ac7_54e1adf13d1frow4_col0 {\n",
       "            background-color:  #d5d5e8;\n",
       "        }    #T_8021481a_3a41_11e9_9ac7_54e1adf13d1frow4_col1 {\n",
       "            background-color:  #0771b1;\n",
       "        }    #T_8021481a_3a41_11e9_9ac7_54e1adf13d1frow4_col2 {\n",
       "            background-color:  #c6cce3;\n",
       "        }    #T_8021481a_3a41_11e9_9ac7_54e1adf13d1frow4_col3 {\n",
       "            background-color:  #034267;\n",
       "        }    #T_8021481a_3a41_11e9_9ac7_54e1adf13d1frow4_col4 {\n",
       "            background-color:  #023858;\n",
       "        }    #T_8021481a_3a41_11e9_9ac7_54e1adf13d1frow4_col5 {\n",
       "            background-color:  #80aed2;\n",
       "        }    #T_8021481a_3a41_11e9_9ac7_54e1adf13d1frow5_col0 {\n",
       "            background-color:  #d4d4e8;\n",
       "        }    #T_8021481a_3a41_11e9_9ac7_54e1adf13d1frow5_col1 {\n",
       "            background-color:  #4094c3;\n",
       "        }    #T_8021481a_3a41_11e9_9ac7_54e1adf13d1frow5_col2 {\n",
       "            background-color:  #c1cae2;\n",
       "        }    #T_8021481a_3a41_11e9_9ac7_54e1adf13d1frow5_col3 {\n",
       "            background-color:  #569dc8;\n",
       "        }    #T_8021481a_3a41_11e9_9ac7_54e1adf13d1frow5_col4 {\n",
       "            background-color:  #7bacd1;\n",
       "        }    #T_8021481a_3a41_11e9_9ac7_54e1adf13d1frow5_col5 {\n",
       "            background-color:  #023858;\n",
       "        }</style>  \n",
       "<table id=\"T_8021481a_3a41_11e9_9ac7_54e1adf13d1f\" > \n",
       "<thead>    <tr> \n",
       "        <th class=\"blank level0\" ></th> \n",
       "        <th class=\"col_heading level0 col0\" >S1</th> \n",
       "        <th class=\"col_heading level0 col1\" >S2</th> \n",
       "        <th class=\"col_heading level0 col2\" >S3</th> \n",
       "        <th class=\"col_heading level0 col3\" >S4</th> \n",
       "        <th class=\"col_heading level0 col4\" >S5</th> \n",
       "        <th class=\"col_heading level0 col5\" >Event_val</th> \n",
       "    </tr></thead> \n",
       "<tbody>    <tr> \n",
       "        <th id=\"T_8021481a_3a41_11e9_9ac7_54e1adf13d1flevel0_row0\" class=\"row_heading level0 row0\" >S1</th> \n",
       "        <td id=\"T_8021481a_3a41_11e9_9ac7_54e1adf13d1frow0_col0\" class=\"data row0 col0\" >1</td> \n",
       "        <td id=\"T_8021481a_3a41_11e9_9ac7_54e1adf13d1frow0_col1\" class=\"data row0 col1\" >-0.18</td> \n",
       "        <td id=\"T_8021481a_3a41_11e9_9ac7_54e1adf13d1frow0_col2\" class=\"data row0 col2\" >-0.061</td> \n",
       "        <td id=\"T_8021481a_3a41_11e9_9ac7_54e1adf13d1frow0_col3\" class=\"data row0 col3\" >-0.05</td> \n",
       "        <td id=\"T_8021481a_3a41_11e9_9ac7_54e1adf13d1frow0_col4\" class=\"data row0 col4\" >0.089</td> \n",
       "        <td id=\"T_8021481a_3a41_11e9_9ac7_54e1adf13d1frow0_col5\" class=\"data row0 col5\" >0.096</td> \n",
       "    </tr>    <tr> \n",
       "        <th id=\"T_8021481a_3a41_11e9_9ac7_54e1adf13d1flevel0_row1\" class=\"row_heading level0 row1\" >S2</th> \n",
       "        <td id=\"T_8021481a_3a41_11e9_9ac7_54e1adf13d1frow1_col0\" class=\"data row1 col0\" >-0.18</td> \n",
       "        <td id=\"T_8021481a_3a41_11e9_9ac7_54e1adf13d1frow1_col1\" class=\"data row1 col1\" >1</td> \n",
       "        <td id=\"T_8021481a_3a41_11e9_9ac7_54e1adf13d1frow1_col2\" class=\"data row1 col2\" >-0.82</td> \n",
       "        <td id=\"T_8021481a_3a41_11e9_9ac7_54e1adf13d1frow1_col3\" class=\"data row1 col3\" >0.63</td> \n",
       "        <td id=\"T_8021481a_3a41_11e9_9ac7_54e1adf13d1frow1_col4\" class=\"data row1 col4\" >0.54</td> \n",
       "        <td id=\"T_8021481a_3a41_11e9_9ac7_54e1adf13d1frow1_col5\" class=\"data row1 col5\" >0.28</td> \n",
       "    </tr>    <tr> \n",
       "        <th id=\"T_8021481a_3a41_11e9_9ac7_54e1adf13d1flevel0_row2\" class=\"row_heading level0 row2\" >S3</th> \n",
       "        <td id=\"T_8021481a_3a41_11e9_9ac7_54e1adf13d1frow2_col0\" class=\"data row2 col0\" >-0.061</td> \n",
       "        <td id=\"T_8021481a_3a41_11e9_9ac7_54e1adf13d1frow2_col1\" class=\"data row2 col1\" >-0.82</td> \n",
       "        <td id=\"T_8021481a_3a41_11e9_9ac7_54e1adf13d1frow2_col2\" class=\"data row2 col2\" >1</td> \n",
       "        <td id=\"T_8021481a_3a41_11e9_9ac7_54e1adf13d1frow2_col3\" class=\"data row2 col3\" >-0.44</td> \n",
       "        <td id=\"T_8021481a_3a41_11e9_9ac7_54e1adf13d1frow2_col4\" class=\"data row2 col4\" >-0.31</td> \n",
       "        <td id=\"T_8021481a_3a41_11e9_9ac7_54e1adf13d1frow2_col5\" class=\"data row2 col5\" >-0.28</td> \n",
       "    </tr>    <tr> \n",
       "        <th id=\"T_8021481a_3a41_11e9_9ac7_54e1adf13d1flevel0_row3\" class=\"row_heading level0 row3\" >S4</th> \n",
       "        <td id=\"T_8021481a_3a41_11e9_9ac7_54e1adf13d1frow3_col0\" class=\"data row3 col0\" >-0.05</td> \n",
       "        <td id=\"T_8021481a_3a41_11e9_9ac7_54e1adf13d1frow3_col1\" class=\"data row3 col1\" >0.63</td> \n",
       "        <td id=\"T_8021481a_3a41_11e9_9ac7_54e1adf13d1frow3_col2\" class=\"data row3 col2\" >-0.44</td> \n",
       "        <td id=\"T_8021481a_3a41_11e9_9ac7_54e1adf13d1frow3_col3\" class=\"data row3 col3\" >1</td> \n",
       "        <td id=\"T_8021481a_3a41_11e9_9ac7_54e1adf13d1frow3_col4\" class=\"data row3 col4\" >0.94</td> \n",
       "        <td id=\"T_8021481a_3a41_11e9_9ac7_54e1adf13d1frow3_col5\" class=\"data row3 col5\" >0.37</td> \n",
       "    </tr>    <tr> \n",
       "        <th id=\"T_8021481a_3a41_11e9_9ac7_54e1adf13d1flevel0_row4\" class=\"row_heading level0 row4\" >S5</th> \n",
       "        <td id=\"T_8021481a_3a41_11e9_9ac7_54e1adf13d1frow4_col0\" class=\"data row4 col0\" >0.089</td> \n",
       "        <td id=\"T_8021481a_3a41_11e9_9ac7_54e1adf13d1frow4_col1\" class=\"data row4 col1\" >0.54</td> \n",
       "        <td id=\"T_8021481a_3a41_11e9_9ac7_54e1adf13d1frow4_col2\" class=\"data row4 col2\" >-0.31</td> \n",
       "        <td id=\"T_8021481a_3a41_11e9_9ac7_54e1adf13d1frow4_col3\" class=\"data row4 col3\" >0.94</td> \n",
       "        <td id=\"T_8021481a_3a41_11e9_9ac7_54e1adf13d1frow4_col4\" class=\"data row4 col4\" >1</td> \n",
       "        <td id=\"T_8021481a_3a41_11e9_9ac7_54e1adf13d1frow4_col5\" class=\"data row4 col5\" >0.32</td> \n",
       "    </tr>    <tr> \n",
       "        <th id=\"T_8021481a_3a41_11e9_9ac7_54e1adf13d1flevel0_row5\" class=\"row_heading level0 row5\" >Event_val</th> \n",
       "        <td id=\"T_8021481a_3a41_11e9_9ac7_54e1adf13d1frow5_col0\" class=\"data row5 col0\" >0.096</td> \n",
       "        <td id=\"T_8021481a_3a41_11e9_9ac7_54e1adf13d1frow5_col1\" class=\"data row5 col1\" >0.28</td> \n",
       "        <td id=\"T_8021481a_3a41_11e9_9ac7_54e1adf13d1frow5_col2\" class=\"data row5 col2\" >-0.28</td> \n",
       "        <td id=\"T_8021481a_3a41_11e9_9ac7_54e1adf13d1frow5_col3\" class=\"data row5 col3\" >0.37</td> \n",
       "        <td id=\"T_8021481a_3a41_11e9_9ac7_54e1adf13d1frow5_col4\" class=\"data row5 col4\" >0.32</td> \n",
       "        <td id=\"T_8021481a_3a41_11e9_9ac7_54e1adf13d1frow5_col5\" class=\"data row5 col5\" >1</td> \n",
       "    </tr></tbody> \n",
       "</table> "
      ],
      "text/plain": [
       "<pandas.io.formats.style.Styler at 0x1fe1f59cdd8>"
      ]
     },
     "execution_count": 44,
     "metadata": {},
     "output_type": "execute_result"
    }
   ],
   "source": [
    "corr = FinalTrngDS.loc[:,FinalTrngDS.columns !='ElapasedTime'].corr()\n",
    "corr.style.background_gradient().set_precision(2)"
   ]
  },
  {
   "cell_type": "code",
   "execution_count": 45,
   "metadata": {},
   "outputs": [
    {
     "data": {
      "text/plain": [
       "0     0.000000\n",
       "1    12.276000\n",
       "2     9.252000\n",
       "3    12.276000\n",
       "4    23.147999\n",
       "Name: Event_val, dtype: float64"
      ]
     },
     "execution_count": 45,
     "metadata": {},
     "output_type": "execute_result"
    }
   ],
   "source": [
    "FinalTrngDS['Event_val'].head()"
   ]
  },
  {
   "cell_type": "code",
   "execution_count": 46,
   "metadata": {},
   "outputs": [
    {
     "data": {
      "text/plain": [
       "Index(['Time', 'S1', 'S2', 'S3', 'S4', 'S5', 'Event_val', 'ElapasedTime'], dtype='object')"
      ]
     },
     "execution_count": 46,
     "metadata": {},
     "output_type": "execute_result"
    }
   ],
   "source": [
    "FinalTrngDS.columns"
   ]
  },
  {
   "cell_type": "code",
   "execution_count": 47,
   "metadata": {},
   "outputs": [],
   "source": [
    "y = FinalTrngDS.iloc[:,6].values # 'Event_val'\n",
    "#y"
   ]
  },
  {
   "cell_type": "code",
   "execution_count": 48,
   "metadata": {},
   "outputs": [
    {
     "data": {
      "text/plain": [
       "array([[ 6.19519043,  6.8784279 ,  3.988469  ],\n",
       "       [ 7.08083135,  6.87838518,  3.98847683],\n",
       "       [ 3.3636049 ,  6.87010495,  3.98975564],\n",
       "       ...,\n",
       "       [-2.00543454,  1.01038331,  0.92354065],\n",
       "       [-1.61545282,  1.00385092,  0.92556495],\n",
       "       [-1.07521057,  0.9973554 ,  0.92999528]])"
      ]
     },
     "execution_count": 48,
     "metadata": {},
     "output_type": "execute_result"
    }
   ],
   "source": [
    "#FeatuesPredictors = ['S1', 'S3', 'S4', 'S5'] # 'S2'\n",
    "#FeatuesPredictors = ['S1', 'S2', 'S3', 'S4', 'S5']\n",
    "#FeatuesPredictors = ['S1', 'S2', 'S4', 'S5'] # 'S3' # Best So far\n",
    "#FeatuesPredictors = ['S2', 'S4', 'S5'] #'S1',  'S3'\n",
    "\n",
    "#FeatuesPredictors = ['S1','S2', 'S4'] #'S1',  'S3'\n",
    "\n",
    "FeatuesPredictors = ['S2','S4', 'S5'] #'S2'   ######BESSSSSSSSSSSSSSSSSSSSSSSSSSSSSSTTTTTTTTTT\n",
    "\n",
    "#FeatuesPredictors = ['S4','S5'] #'S5'\n",
    "\n",
    "X=FinalTrngDS[FeatuesPredictors].values\n",
    "X"
   ]
  },
  {
   "cell_type": "code",
   "execution_count": 49,
   "metadata": {},
   "outputs": [
    {
     "data": {
      "text/plain": [
       "((983, 3), (983,))"
      ]
     },
     "execution_count": 49,
     "metadata": {},
     "output_type": "execute_result"
    }
   ],
   "source": [
    "X.shape,y.shape"
   ]
  },
  {
   "cell_type": "code",
   "execution_count": 50,
   "metadata": {},
   "outputs": [],
   "source": [
    "from sklearn.model_selection import train_test_split\n",
    "X_train,X_test,y_train,y_test = train_test_split(X,y,test_size=0.20, random_state=0)"
   ]
  },
  {
   "cell_type": "markdown",
   "metadata": {},
   "source": [
    "# Fitting Multiple Linear regression to training set\n"
   ]
  },
  {
   "cell_type": "code",
   "execution_count": 51,
   "metadata": {},
   "outputs": [
    {
     "data": {
      "text/plain": [
       "LinearRegression(copy_X=True, fit_intercept=True, n_jobs=1, normalize=False)"
      ]
     },
     "execution_count": 51,
     "metadata": {},
     "output_type": "execute_result"
    }
   ],
   "source": [
    "from sklearn.linear_model import LinearRegression\n",
    "regressor_mlr = LinearRegression()\n",
    "regressor_mlr.fit(X_train,y_train)"
   ]
  },
  {
   "cell_type": "code",
   "execution_count": 52,
   "metadata": {},
   "outputs": [
    {
     "data": {
      "text/plain": [
       "(7.522903140218286, array([ 0.16034485,  5.10562587, -2.80940363]))"
      ]
     },
     "execution_count": 52,
     "metadata": {},
     "output_type": "execute_result"
    }
   ],
   "source": [
    "regressor_mlr.intercept_,regressor_mlr.coef_"
   ]
  },
  {
   "cell_type": "code",
   "execution_count": 53,
   "metadata": {},
   "outputs": [],
   "source": [
    "y_pred_mlr = regressor_mlr.predict(X_test)"
   ]
  },
  {
   "cell_type": "markdown",
   "metadata": {},
   "source": [
    "# Fitting Polynoinal regression to training set"
   ]
  },
  {
   "cell_type": "code",
   "execution_count": 54,
   "metadata": {},
   "outputs": [
    {
     "data": {
      "text/plain": [
       "LinearRegression(copy_X=True, fit_intercept=True, n_jobs=1, normalize=False)"
      ]
     },
     "execution_count": 54,
     "metadata": {},
     "output_type": "execute_result"
    }
   ],
   "source": [
    "from sklearn.preprocessing import PolynomialFeatures\n",
    "poly_reg = PolynomialFeatures(degree=4)\n",
    "X_poly = poly_reg.fit_transform(X_train)\n",
    "poly_reg.fit(X_poly,y_train)\n",
    "regressor_linPoly = LinearRegression()\n",
    "regressor_linPoly.fit(X_poly,y_train)"
   ]
  },
  {
   "cell_type": "code",
   "execution_count": 55,
   "metadata": {},
   "outputs": [],
   "source": [
    "#regressor_linPoly.intercept_,regressor_linPoly.coef_"
   ]
  },
  {
   "cell_type": "code",
   "execution_count": 56,
   "metadata": {},
   "outputs": [],
   "source": [
    "y_pred_poly = regressor_linPoly.predict(poly_reg.fit_transform(X_test))"
   ]
  },
  {
   "cell_type": "markdown",
   "metadata": {},
   "source": [
    "# Fitting Decision Tree regression to training set"
   ]
  },
  {
   "cell_type": "code",
   "execution_count": 57,
   "metadata": {},
   "outputs": [
    {
     "data": {
      "text/plain": [
       "DecisionTreeRegressor(criterion='mse', max_depth=None, max_features=None,\n",
       "           max_leaf_nodes=None, min_impurity_decrease=0.0,\n",
       "           min_impurity_split=None, min_samples_leaf=1,\n",
       "           min_samples_split=2, min_weight_fraction_leaf=0.0,\n",
       "           presort=False, random_state=0, splitter='best')"
      ]
     },
     "execution_count": 57,
     "metadata": {},
     "output_type": "execute_result"
    }
   ],
   "source": [
    "from sklearn.tree import DecisionTreeRegressor\n",
    "regressor_dt = DecisionTreeRegressor(random_state=0)\n",
    "regressor_dt.fit(X_train,y_train)"
   ]
  },
  {
   "cell_type": "code",
   "execution_count": 58,
   "metadata": {},
   "outputs": [],
   "source": [
    "y_pred_dt = regressor_dt.predict(X_test)"
   ]
  },
  {
   "cell_type": "markdown",
   "metadata": {},
   "source": [
    "# Fitting Random Forest regression to training set"
   ]
  },
  {
   "cell_type": "code",
   "execution_count": 59,
   "metadata": {},
   "outputs": [
    {
     "data": {
      "text/plain": [
       "RandomForestRegressor(bootstrap=True, criterion='mse', max_depth=None,\n",
       "           max_features='auto', max_leaf_nodes=None,\n",
       "           min_impurity_decrease=0.0, min_impurity_split=None,\n",
       "           min_samples_leaf=1, min_samples_split=2,\n",
       "           min_weight_fraction_leaf=0.0, n_estimators=300, n_jobs=1,\n",
       "           oob_score=False, random_state=0, verbose=0, warm_start=False)"
      ]
     },
     "execution_count": 59,
     "metadata": {},
     "output_type": "execute_result"
    }
   ],
   "source": [
    "from sklearn.ensemble import RandomForestRegressor\n",
    "regressor_rf = RandomForestRegressor(n_estimators=300, random_state=0)\n",
    "regressor_rf.fit(X_train,y_train)"
   ]
  },
  {
   "cell_type": "code",
   "execution_count": 60,
   "metadata": {},
   "outputs": [],
   "source": [
    "y_pred_rf = regressor_rf.predict(X_test)"
   ]
  },
  {
   "cell_type": "markdown",
   "metadata": {},
   "source": [
    "# Evaluate Model performance"
   ]
  },
  {
   "cell_type": "code",
   "execution_count": 61,
   "metadata": {},
   "outputs": [
    {
     "data": {
      "text/plain": [
       "(0.12215890452961975,\n",
       " 0.6214586253289226,\n",
       " 0.9276480271239957,\n",
       " 0.9570300572372749)"
      ]
     },
     "execution_count": 61,
     "metadata": {},
     "output_type": "execute_result"
    }
   ],
   "source": [
    "from sklearn.metrics import r2_score\n",
    "r2_score(y_test,y_pred_mlr),r2_score(y_test,y_pred_poly),r2_score(y_test,y_pred_dt),r2_score(y_test,y_pred_rf)"
   ]
  },
  {
   "cell_type": "code",
   "execution_count": 62,
   "metadata": {},
   "outputs": [
    {
     "data": {
      "text/plain": [
       "(221.3312474155168, 95.44214219025594, 18.242199519081403, 10.834069038373276)"
      ]
     },
     "execution_count": 62,
     "metadata": {},
     "output_type": "execute_result"
    }
   ],
   "source": [
    "from sklearn.metrics import mean_squared_error\n",
    "mean_squared_error(y_test,y_pred_mlr),mean_squared_error(y_test,y_pred_poly),mean_squared_error(y_test,y_pred_dt),mean_squared_error(y_test,y_pred_rf)"
   ]
  },
  {
   "cell_type": "code",
   "execution_count": 63,
   "metadata": {},
   "outputs": [
    {
     "data": {
      "text/html": [
       "<div>\n",
       "<style scoped>\n",
       "    .dataframe tbody tr th:only-of-type {\n",
       "        vertical-align: middle;\n",
       "    }\n",
       "\n",
       "    .dataframe tbody tr th {\n",
       "        vertical-align: top;\n",
       "    }\n",
       "\n",
       "    .dataframe thead th {\n",
       "        text-align: right;\n",
       "    }\n",
       "</style>\n",
       "<table border=\"1\" class=\"dataframe\">\n",
       "  <thead>\n",
       "    <tr style=\"text-align: right;\">\n",
       "      <th></th>\n",
       "      <th>Actuals</th>\n",
       "      <th>MLR</th>\n",
       "      <th>Poly</th>\n",
       "      <th>DecisionTree</th>\n",
       "      <th>RandomForest</th>\n",
       "    </tr>\n",
       "  </thead>\n",
       "  <tbody>\n",
       "    <tr>\n",
       "      <th>0</th>\n",
       "      <td>56.880001</td>\n",
       "      <td>60.120003</td>\n",
       "      <td>60.120003</td>\n",
       "      <td>60.120003</td>\n",
       "      <td>52.647362</td>\n",
       "    </tr>\n",
       "    <tr>\n",
       "      <th>1</th>\n",
       "      <td>4.140000</td>\n",
       "      <td>6.588000</td>\n",
       "      <td>6.588000</td>\n",
       "      <td>6.588000</td>\n",
       "      <td>5.344920</td>\n",
       "    </tr>\n",
       "    <tr>\n",
       "      <th>2</th>\n",
       "      <td>17.675999</td>\n",
       "      <td>19.763999</td>\n",
       "      <td>19.763999</td>\n",
       "      <td>19.763999</td>\n",
       "      <td>15.376080</td>\n",
       "    </tr>\n",
       "    <tr>\n",
       "      <th>3</th>\n",
       "      <td>0.000000</td>\n",
       "      <td>4.896000</td>\n",
       "      <td>4.896000</td>\n",
       "      <td>4.896000</td>\n",
       "      <td>1.886760</td>\n",
       "    </tr>\n",
       "    <tr>\n",
       "      <th>4</th>\n",
       "      <td>31.932000</td>\n",
       "      <td>31.572002</td>\n",
       "      <td>31.572002</td>\n",
       "      <td>31.572002</td>\n",
       "      <td>30.392760</td>\n",
       "    </tr>\n",
       "  </tbody>\n",
       "</table>\n",
       "</div>"
      ],
      "text/plain": [
       "     Actuals        MLR       Poly  DecisionTree  RandomForest\n",
       "0  56.880001  60.120003  60.120003     60.120003     52.647362\n",
       "1   4.140000   6.588000   6.588000      6.588000      5.344920\n",
       "2  17.675999  19.763999  19.763999     19.763999     15.376080\n",
       "3   0.000000   4.896000   4.896000      4.896000      1.886760\n",
       "4  31.932000  31.572002  31.572002     31.572002     30.392760"
      ]
     },
     "execution_count": 63,
     "metadata": {},
     "output_type": "execute_result"
    }
   ],
   "source": [
    "Actuals = y_test.reshape(len(y_test),1)\n",
    "\n",
    "y_pred_mlr = y_pred_dt.reshape(len(y_pred_mlr),1)\n",
    "y_pred_poly = y_pred_dt.reshape(len(y_pred_poly),1)\n",
    "\n",
    "y_pred_dt = y_pred_dt.reshape(len(y_pred_dt),1)\n",
    "y_pred_rf = y_pred_rf.reshape(len(y_pred_rf),1)\n",
    "\n",
    "Columns = ['Actuals','MLR','Poly','DecisionTree','RandomForest']\n",
    "\n",
    "FinalResult = pd.DataFrame(np.hstack((Actuals,y_pred_mlr,y_pred_poly,y_pred_dt,y_pred_rf)),columns = Columns)\n",
    "#FinalResult = pd.DataFrame(Actuals)\n",
    "FinalResult.head()"
   ]
  },
  {
   "cell_type": "markdown",
   "metadata": {},
   "source": [
    "# ****************** Selected Model ****************\n",
    "### - RandomForest for prediction"
   ]
  },
  {
   "cell_type": "code",
   "execution_count": 64,
   "metadata": {},
   "outputs": [
    {
     "data": {
      "text/html": [
       "<div>\n",
       "<style scoped>\n",
       "    .dataframe tbody tr th:only-of-type {\n",
       "        vertical-align: middle;\n",
       "    }\n",
       "\n",
       "    .dataframe tbody tr th {\n",
       "        vertical-align: top;\n",
       "    }\n",
       "\n",
       "    .dataframe thead th {\n",
       "        text-align: right;\n",
       "    }\n",
       "</style>\n",
       "<table border=\"1\" class=\"dataframe\">\n",
       "  <thead>\n",
       "    <tr style=\"text-align: right;\">\n",
       "      <th></th>\n",
       "      <th>Time</th>\n",
       "      <th>S1</th>\n",
       "      <th>S2</th>\n",
       "      <th>S3</th>\n",
       "      <th>S4</th>\n",
       "      <th>S5</th>\n",
       "      <th>Event_val</th>\n",
       "      <th>ElapasedTime</th>\n",
       "    </tr>\n",
       "  </thead>\n",
       "  <tbody>\n",
       "    <tr>\n",
       "      <th>0</th>\n",
       "      <td>38:31.7</td>\n",
       "      <td>4.121874</td>\n",
       "      <td>-0.708732</td>\n",
       "      <td>7.278171</td>\n",
       "      <td>0.990715</td>\n",
       "      <td>0.934132</td>\n",
       "      <td>1000</td>\n",
       "      <td>0</td>\n",
       "    </tr>\n",
       "    <tr>\n",
       "      <th>1</th>\n",
       "      <td>38:31.7</td>\n",
       "      <td>4.382599</td>\n",
       "      <td>-0.785110</td>\n",
       "      <td>7.696915</td>\n",
       "      <td>0.990644</td>\n",
       "      <td>0.934168</td>\n",
       "      <td>-999</td>\n",
       "      <td>11</td>\n",
       "    </tr>\n",
       "    <tr>\n",
       "      <th>2</th>\n",
       "      <td>38:31.7</td>\n",
       "      <td>4.856644</td>\n",
       "      <td>-0.923981</td>\n",
       "      <td>8.458267</td>\n",
       "      <td>0.990514</td>\n",
       "      <td>0.934234</td>\n",
       "      <td>-999</td>\n",
       "      <td>31</td>\n",
       "    </tr>\n",
       "    <tr>\n",
       "      <th>3</th>\n",
       "      <td>38:31.8</td>\n",
       "      <td>4.486740</td>\n",
       "      <td>-1.374084</td>\n",
       "      <td>7.609528</td>\n",
       "      <td>0.990319</td>\n",
       "      <td>0.934332</td>\n",
       "      <td>-999</td>\n",
       "      <td>61</td>\n",
       "    </tr>\n",
       "    <tr>\n",
       "      <th>4</th>\n",
       "      <td>38:31.8</td>\n",
       "      <td>5.060165</td>\n",
       "      <td>-1.381271</td>\n",
       "      <td>7.668182</td>\n",
       "      <td>0.990163</td>\n",
       "      <td>0.934411</td>\n",
       "      <td>-999</td>\n",
       "      <td>85</td>\n",
       "    </tr>\n",
       "  </tbody>\n",
       "</table>\n",
       "</div>"
      ],
      "text/plain": [
       "      Time        S1        S2        S3        S4        S5  Event_val  \\\n",
       "0  38:31.7  4.121874 -0.708732  7.278171  0.990715  0.934132       1000   \n",
       "1  38:31.7  4.382599 -0.785110  7.696915  0.990644  0.934168       -999   \n",
       "2  38:31.7  4.856644 -0.923981  8.458267  0.990514  0.934234       -999   \n",
       "3  38:31.8  4.486740 -1.374084  7.609528  0.990319  0.934332       -999   \n",
       "4  38:31.8  5.060165 -1.381271  7.668182  0.990163  0.934411       -999   \n",
       "\n",
       "   ElapasedTime  \n",
       "0             0  \n",
       "1            11  \n",
       "2            31  \n",
       "3            61  \n",
       "4            85  "
      ]
     },
     "execution_count": 64,
     "metadata": {},
     "output_type": "execute_result"
    }
   ],
   "source": [
    "TestDataset_final = pd.read_csv('DatathonAI2018\\data\\TestDataset_final.csv').drop(columns ='Unnamed: 0' )\n",
    "TestDataset_final.head()"
   ]
  },
  {
   "cell_type": "code",
   "execution_count": 65,
   "metadata": {},
   "outputs": [
    {
     "data": {
      "text/plain": [
       "(2063, 8)"
      ]
     },
     "execution_count": 65,
     "metadata": {},
     "output_type": "execute_result"
    }
   ],
   "source": [
    "TestDataset_final.shape"
   ]
  },
  {
   "cell_type": "code",
   "execution_count": 66,
   "metadata": {},
   "outputs": [
    {
     "data": {
      "text/plain": [
       "(40, 8)"
      ]
     },
     "execution_count": 66,
     "metadata": {},
     "output_type": "execute_result"
    }
   ],
   "source": [
    "TestDataset = TestDataset_final[TestDataset_final['Event_val']>0].reset_index(drop=True)\n",
    "TestDataset.shape"
   ]
  },
  {
   "cell_type": "code",
   "execution_count": 67,
   "metadata": {},
   "outputs": [
    {
     "data": {
      "text/plain": [
       "['S2', 'S4', 'S5']"
      ]
     },
     "execution_count": 67,
     "metadata": {},
     "output_type": "execute_result"
    }
   ],
   "source": [
    "FeatuesPredictors"
   ]
  },
  {
   "cell_type": "code",
   "execution_count": 68,
   "metadata": {},
   "outputs": [],
   "source": [
    "#FeatuesPredictors = ['S2','S4', 'S5']\n",
    "\n",
    "X_test_Final=TestDataset[FeatuesPredictors].values\n",
    "#X_test_Final"
   ]
  },
  {
   "cell_type": "code",
   "execution_count": 69,
   "metadata": {},
   "outputs": [],
   "source": [
    "y_pred_rf_final = regressor_rf.predict(X_test_Final)"
   ]
  },
  {
   "cell_type": "code",
   "execution_count": 70,
   "metadata": {},
   "outputs": [
    {
     "data": {
      "text/plain": [
       "array([29.34083952, 29.48987973, 29.56991951, 30.00660067, 29.56235966,\n",
       "       28.8645596 , 29.56463974, 29.5683598 , 29.91708074, 28.77875959,\n",
       "       29.48640022, 29.5066799 , 29.2164005 , 29.91708074, 29.55660103,\n",
       "       29.5477197 , 29.56463974, 29.5477197 , 29.61792099, 29.5465197 ,\n",
       "       29.57723966, 29.55479965, 29.55875965, 29.57507966, 29.55875965,\n",
       "       29.55479965, 29.55479965, 29.56235966, 29.58995972, 29.57303977,\n",
       "       29.56235966, 29.5957196 , 29.58720084, 29.00519958, 29.22251962,\n",
       "       29.20919962, 29.19419962, 29.22251962, 29.4964799 , 29.17139963])"
      ]
     },
     "execution_count": 70,
     "metadata": {},
     "output_type": "execute_result"
    }
   ],
   "source": [
    "y_pred_rf_final"
   ]
  },
  {
   "cell_type": "code",
   "execution_count": 71,
   "metadata": {},
   "outputs": [
    {
     "data": {
      "text/html": [
       "<div>\n",
       "<style scoped>\n",
       "    .dataframe tbody tr th:only-of-type {\n",
       "        vertical-align: middle;\n",
       "    }\n",
       "\n",
       "    .dataframe tbody tr th {\n",
       "        vertical-align: top;\n",
       "    }\n",
       "\n",
       "    .dataframe thead th {\n",
       "        text-align: right;\n",
       "    }\n",
       "</style>\n",
       "<table border=\"1\" class=\"dataframe\">\n",
       "  <thead>\n",
       "    <tr style=\"text-align: right;\">\n",
       "      <th></th>\n",
       "      <th>Event_val</th>\n",
       "    </tr>\n",
       "  </thead>\n",
       "  <tbody>\n",
       "    <tr>\n",
       "      <th>0</th>\n",
       "      <td>29.340840</td>\n",
       "    </tr>\n",
       "    <tr>\n",
       "      <th>1</th>\n",
       "      <td>29.489880</td>\n",
       "    </tr>\n",
       "    <tr>\n",
       "      <th>2</th>\n",
       "      <td>29.569920</td>\n",
       "    </tr>\n",
       "    <tr>\n",
       "      <th>3</th>\n",
       "      <td>30.006601</td>\n",
       "    </tr>\n",
       "    <tr>\n",
       "      <th>4</th>\n",
       "      <td>29.562360</td>\n",
       "    </tr>\n",
       "  </tbody>\n",
       "</table>\n",
       "</div>"
      ],
      "text/plain": [
       "   Event_val\n",
       "0  29.340840\n",
       "1  29.489880\n",
       "2  29.569920\n",
       "3  30.006601\n",
       "4  29.562360"
      ]
     },
     "execution_count": 71,
     "metadata": {},
     "output_type": "execute_result"
    }
   ],
   "source": [
    "#FinalPrediction = y_pred.reshape(len(y_pred),1)\n",
    "\n",
    "Columns = ['Event_val']\n",
    "\n",
    "FinalPrediction = pd.DataFrame(np.hstack((y_pred_rf_final)),columns = Columns)\n",
    "\n",
    "FinalPrediction.head()"
   ]
  },
  {
   "cell_type": "code",
   "execution_count": 72,
   "metadata": {},
   "outputs": [
    {
     "data": {
      "text/html": [
       "<div>\n",
       "<style scoped>\n",
       "    .dataframe tbody tr th:only-of-type {\n",
       "        vertical-align: middle;\n",
       "    }\n",
       "\n",
       "    .dataframe tbody tr th {\n",
       "        vertical-align: top;\n",
       "    }\n",
       "\n",
       "    .dataframe thead th {\n",
       "        text-align: right;\n",
       "    }\n",
       "</style>\n",
       "<table border=\"1\" class=\"dataframe\">\n",
       "  <thead>\n",
       "    <tr style=\"text-align: right;\">\n",
       "      <th></th>\n",
       "      <th>Time</th>\n",
       "    </tr>\n",
       "  </thead>\n",
       "  <tbody>\n",
       "    <tr>\n",
       "      <th>0</th>\n",
       "      <td>0:38:31.692</td>\n",
       "    </tr>\n",
       "    <tr>\n",
       "      <th>1</th>\n",
       "      <td>0:38:32.657</td>\n",
       "    </tr>\n",
       "    <tr>\n",
       "      <th>2</th>\n",
       "      <td>0:38:33.672</td>\n",
       "    </tr>\n",
       "    <tr>\n",
       "      <th>3</th>\n",
       "      <td>0:38:34.732</td>\n",
       "    </tr>\n",
       "    <tr>\n",
       "      <th>4</th>\n",
       "      <td>0:38:35.606</td>\n",
       "    </tr>\n",
       "  </tbody>\n",
       "</table>\n",
       "</div>"
      ],
      "text/plain": [
       "          Time\n",
       "0  0:38:31.692\n",
       "1  0:38:32.657\n",
       "2  0:38:33.672\n",
       "3  0:38:34.732\n",
       "4  0:38:35.606"
      ]
     },
     "execution_count": 72,
     "metadata": {},
     "output_type": "execute_result"
    }
   ],
   "source": [
    "TestFile = pd.read_csv('DatathonAI2018\\data\\DatathoanAIEventdataTest.csv').drop(columns = ['Event_val','Unnamed: 2'])\n",
    "TestFile.head()"
   ]
  },
  {
   "cell_type": "code",
   "execution_count": 73,
   "metadata": {},
   "outputs": [],
   "source": [
    "CaseStudy1_result = pd.concat([TestFile,FinalPrediction],axis=1)"
   ]
  },
  {
   "cell_type": "code",
   "execution_count": 74,
   "metadata": {},
   "outputs": [
    {
     "data": {
      "text/html": [
       "<div>\n",
       "<style scoped>\n",
       "    .dataframe tbody tr th:only-of-type {\n",
       "        vertical-align: middle;\n",
       "    }\n",
       "\n",
       "    .dataframe tbody tr th {\n",
       "        vertical-align: top;\n",
       "    }\n",
       "\n",
       "    .dataframe thead th {\n",
       "        text-align: right;\n",
       "    }\n",
       "</style>\n",
       "<table border=\"1\" class=\"dataframe\">\n",
       "  <thead>\n",
       "    <tr style=\"text-align: right;\">\n",
       "      <th></th>\n",
       "      <th>Time</th>\n",
       "      <th>Event_val</th>\n",
       "    </tr>\n",
       "  </thead>\n",
       "  <tbody>\n",
       "    <tr>\n",
       "      <th>0</th>\n",
       "      <td>0:38:31.692</td>\n",
       "      <td>29.340840</td>\n",
       "    </tr>\n",
       "    <tr>\n",
       "      <th>1</th>\n",
       "      <td>0:38:32.657</td>\n",
       "      <td>29.489880</td>\n",
       "    </tr>\n",
       "    <tr>\n",
       "      <th>2</th>\n",
       "      <td>0:38:33.672</td>\n",
       "      <td>29.569920</td>\n",
       "    </tr>\n",
       "    <tr>\n",
       "      <th>3</th>\n",
       "      <td>0:38:34.732</td>\n",
       "      <td>30.006601</td>\n",
       "    </tr>\n",
       "    <tr>\n",
       "      <th>4</th>\n",
       "      <td>0:38:35.606</td>\n",
       "      <td>29.562360</td>\n",
       "    </tr>\n",
       "  </tbody>\n",
       "</table>\n",
       "</div>"
      ],
      "text/plain": [
       "          Time  Event_val\n",
       "0  0:38:31.692  29.340840\n",
       "1  0:38:32.657  29.489880\n",
       "2  0:38:33.672  29.569920\n",
       "3  0:38:34.732  30.006601\n",
       "4  0:38:35.606  29.562360"
      ]
     },
     "execution_count": 74,
     "metadata": {},
     "output_type": "execute_result"
    }
   ],
   "source": [
    "CaseStudy1_result.head()"
   ]
  },
  {
   "cell_type": "code",
   "execution_count": 75,
   "metadata": {},
   "outputs": [],
   "source": [
    "CaseStudy1_result.to_csv('DatathonAI2018\\data\\CaseStudy1_result.csv',index=False)"
   ]
  },
  {
   "cell_type": "code",
   "execution_count": 76,
   "metadata": {},
   "outputs": [],
   "source": [
    "# *****************************************************************************************"
   ]
  }
 ],
 "metadata": {
  "kernelspec": {
   "display_name": "Python 3",
   "language": "python",
   "name": "python3"
  },
  "language_info": {
   "codemirror_mode": {
    "name": "ipython",
    "version": 3
   },
   "file_extension": ".py",
   "mimetype": "text/x-python",
   "name": "python",
   "nbconvert_exporter": "python",
   "pygments_lexer": "ipython3",
   "version": "3.6.5"
  }
 },
 "nbformat": 4,
 "nbformat_minor": 2
}
